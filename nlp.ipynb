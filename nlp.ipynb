{
 "cells": [
  {
   "cell_type": "code",
   "execution_count": 16,
   "metadata": {},
   "outputs": [],
   "source": [
    "from keras.models import Sequential\n",
    "from keras.layers import GRU ,Dense , Embedding\n",
    "from keras.optimizers import Adam\n",
    "from keras.preprocessing.text import Tokenizer\n",
    "from keras.preprocessing.sequence import pad_sequences\n",
    "\n",
    "from sklearn.metrics import confusion_matrix\n",
    "from sklearn.preprocessing import LabelEncoder\n",
    "from sklearn.model_selection import train_test_split\n",
    "from nltk.corpus import stopwords\n",
    "\n",
    "import re\n",
    "import numpy as np\n",
    "import pandas as pd\n",
    "import matplotlib.pyplot as plt\n",
    "import seaborn as sns\n",
    "\n",
    "\n",
    "np.random.seed(123)"
   ]
  },
  {
   "cell_type": "code",
   "execution_count": 17,
   "metadata": {},
   "outputs": [],
   "source": [
    "#dataseti dahil etme\n",
    "dataset = pd.read_csv(\"dataset/yorumsepeti.csv\" , sep=\";\" ,encoding='utf-8' )"
   ]
  },
  {
   "cell_type": "code",
   "execution_count": 18,
   "metadata": {},
   "outputs": [
    {
     "data": {
      "text/plain": [
       "(60242, 4)"
      ]
     },
     "execution_count": 18,
     "metadata": {},
     "output_type": "execute_result"
    }
   ],
   "source": [
    "dataset.shape"
   ]
  },
  {
   "cell_type": "code",
   "execution_count": 19,
   "metadata": {},
   "outputs": [
    {
     "data": {
      "text/html": [
       "<div>\n",
       "<style scoped>\n",
       "    .dataframe tbody tr th:only-of-type {\n",
       "        vertical-align: middle;\n",
       "    }\n",
       "\n",
       "    .dataframe tbody tr th {\n",
       "        vertical-align: top;\n",
       "    }\n",
       "\n",
       "    .dataframe thead th {\n",
       "        text-align: right;\n",
       "    }\n",
       "</style>\n",
       "<table border=\"1\" class=\"dataframe\">\n",
       "  <thead>\n",
       "    <tr style=\"text-align: right;\">\n",
       "      <th></th>\n",
       "      <th>speed</th>\n",
       "      <th>service</th>\n",
       "      <th>flavour</th>\n",
       "      <th>review</th>\n",
       "    </tr>\n",
       "  </thead>\n",
       "  <tbody>\n",
       "    <tr>\n",
       "      <th>31749</th>\n",
       "      <td>9</td>\n",
       "      <td>5</td>\n",
       "      <td>5</td>\n",
       "      <td>Sanirim indirimli oldugu icin icinde stick ve ...</td>\n",
       "    </tr>\n",
       "    <tr>\n",
       "      <th>38429</th>\n",
       "      <td>10</td>\n",
       "      <td>10</td>\n",
       "      <td>10</td>\n",
       "      <td>Hızlı ve keyifli.</td>\n",
       "    </tr>\n",
       "    <tr>\n",
       "      <th>55280</th>\n",
       "      <td>10</td>\n",
       "      <td>8</td>\n",
       "      <td>10</td>\n",
       "      <td>Paketlerinizi biraz daha geliştirebilirsiniz g...</td>\n",
       "    </tr>\n",
       "    <tr>\n",
       "      <th>53052</th>\n",
       "      <td>10</td>\n",
       "      <td>10</td>\n",
       "      <td>10</td>\n",
       "      <td>Mükemmel hizmet. Ba-yıl-dım!</td>\n",
       "    </tr>\n",
       "    <tr>\n",
       "      <th>41457</th>\n",
       "      <td>10</td>\n",
       "      <td>10</td>\n",
       "      <td>10</td>\n",
       "      <td>Pizzalar elime sıcacık ulaştı ve malzemeleri b...</td>\n",
       "    </tr>\n",
       "  </tbody>\n",
       "</table>\n",
       "</div>"
      ],
      "text/plain": [
       "      speed service flavour                                             review\n",
       "31749     9       5       5  Sanirim indirimli oldugu icin icinde stick ve ...\n",
       "38429    10      10      10                                  Hızlı ve keyifli.\n",
       "55280    10       8      10  Paketlerinizi biraz daha geliştirebilirsiniz g...\n",
       "53052    10      10      10                       Mükemmel hizmet. Ba-yıl-dım!\n",
       "41457    10      10      10  Pizzalar elime sıcacık ulaştı ve malzemeleri b..."
      ]
     },
     "execution_count": 19,
     "metadata": {},
     "output_type": "execute_result"
    }
   ],
   "source": [
    "dataset.sample(5)"
   ]
  },
  {
   "cell_type": "code",
   "execution_count": 20,
   "metadata": {},
   "outputs": [
    {
     "name": "stdout",
     "output_type": "stream",
     "text": [
      "<class 'pandas.core.frame.DataFrame'>\n",
      "RangeIndex: 60242 entries, 0 to 60241\n",
      "Data columns (total 4 columns):\n",
      " #   Column   Non-Null Count  Dtype \n",
      "---  ------   --------------  ----- \n",
      " 0   speed    60242 non-null  object\n",
      " 1   service  60242 non-null  object\n",
      " 2   flavour  60242 non-null  object\n",
      " 3   review   60209 non-null  object\n",
      "dtypes: object(4)\n",
      "memory usage: 1.8+ MB\n"
     ]
    }
   ],
   "source": [
    "dataset.info()"
   ]
  },
  {
   "cell_type": "code",
   "execution_count": 21,
   "metadata": {},
   "outputs": [
    {
     "data": {
      "text/plain": [
       "speed       0\n",
       "service     0\n",
       "flavour     0\n",
       "review     33\n",
       "dtype: int64"
      ]
     },
     "execution_count": 21,
     "metadata": {},
     "output_type": "execute_result"
    }
   ],
   "source": [
    "dataset.isnull().sum()"
   ]
  },
  {
   "cell_type": "code",
   "execution_count": 22,
   "metadata": {},
   "outputs": [],
   "source": [
    "dataset = dataset.dropna(axis = 0)"
   ]
  },
  {
   "cell_type": "code",
   "execution_count": 23,
   "metadata": {},
   "outputs": [
    {
     "data": {
      "text/plain": [
       "speed      0\n",
       "service    0\n",
       "flavour    0\n",
       "review     0\n",
       "dtype: int64"
      ]
     },
     "execution_count": 23,
     "metadata": {},
     "output_type": "execute_result"
    }
   ],
   "source": [
    "dataset.isnull().sum()"
   ]
  },
  {
   "cell_type": "code",
   "execution_count": 24,
   "metadata": {},
   "outputs": [
    {
     "data": {
      "text/plain": [
       "(60209, 4)"
      ]
     },
     "execution_count": 24,
     "metadata": {},
     "output_type": "execute_result"
    }
   ],
   "source": [
    "dataset.shape"
   ]
  },
  {
   "cell_type": "code",
   "execution_count": 25,
   "metadata": {},
   "outputs": [
    {
     "data": {
      "text/html": [
       "<div>\n",
       "<style scoped>\n",
       "    .dataframe tbody tr th:only-of-type {\n",
       "        vertical-align: middle;\n",
       "    }\n",
       "\n",
       "    .dataframe tbody tr th {\n",
       "        vertical-align: top;\n",
       "    }\n",
       "\n",
       "    .dataframe thead th {\n",
       "        text-align: right;\n",
       "    }\n",
       "</style>\n",
       "<table border=\"1\" class=\"dataframe\">\n",
       "  <thead>\n",
       "    <tr style=\"text-align: right;\">\n",
       "      <th></th>\n",
       "      <th>speed</th>\n",
       "      <th>service</th>\n",
       "      <th>flavour</th>\n",
       "      <th>review</th>\n",
       "    </tr>\n",
       "  </thead>\n",
       "  <tbody>\n",
       "    <tr>\n",
       "      <th>0</th>\n",
       "      <td>-</td>\n",
       "      <td>1</td>\n",
       "      <td>1</td>\n",
       "      <td>Her zaman komşu fırından sipariş verdiğim için...</td>\n",
       "    </tr>\n",
       "    <tr>\n",
       "      <th>1</th>\n",
       "      <td>-</td>\n",
       "      <td>10</td>\n",
       "      <td>2</td>\n",
       "      <td>sosisli ürün isteyen adama peynirli bişey yol...</td>\n",
       "    </tr>\n",
       "    <tr>\n",
       "      <th>2</th>\n",
       "      <td>-</td>\n",
       "      <td>10</td>\n",
       "      <td>10</td>\n",
       "      <td>Siparisimi cok hizli getiren ekip arkadasiniza...</td>\n",
       "    </tr>\n",
       "    <tr>\n",
       "      <th>3</th>\n",
       "      <td>1</td>\n",
       "      <td>1</td>\n",
       "      <td>7</td>\n",
       "      <td>After waiting more tjan one hour, they didnt d...</td>\n",
       "    </tr>\n",
       "    <tr>\n",
       "      <th>4</th>\n",
       "      <td>4</td>\n",
       "      <td>4</td>\n",
       "      <td>1</td>\n",
       "      <td>Iyi pişsin diye söylememe rağmen az pişmiş gel...</td>\n",
       "    </tr>\n",
       "  </tbody>\n",
       "</table>\n",
       "</div>"
      ],
      "text/plain": [
       "  speed service flavour                                             review\n",
       "0     -       1       1  Her zaman komşu fırından sipariş verdiğim için...\n",
       "1     -      10       2   sosisli ürün isteyen adama peynirli bişey yol...\n",
       "2     -      10      10  Siparisimi cok hizli getiren ekip arkadasiniza...\n",
       "3     1       1       7  After waiting more tjan one hour, they didnt d...\n",
       "4     4       4       1  Iyi pişsin diye söylememe rağmen az pişmiş gel..."
      ]
     },
     "execution_count": 25,
     "metadata": {},
     "output_type": "execute_result"
    }
   ],
   "source": [
    "dataset.head()"
   ]
  },
  {
   "cell_type": "code",
   "execution_count": 26,
   "metadata": {},
   "outputs": [
    {
     "data": {
      "text/plain": [
       "Index(['speed', 'service', 'flavour', 'review'], dtype='object')"
      ]
     },
     "execution_count": 26,
     "metadata": {},
     "output_type": "execute_result"
    }
   ],
   "source": [
    "dataset.columns"
   ]
  },
  {
   "cell_type": "code",
   "execution_count": 27,
   "metadata": {},
   "outputs": [],
   "source": [
    "#olumlu ve olumsuz degerleri atama\n",
    "scor = []\n",
    "for i in range(0,dataset.shape[0]):\n",
    "    speed = [ 1  if dataset['speed'].iloc[i].strip() == '-' else int(dataset['speed'].iloc[i])]\n",
    "    service = [ 1  if dataset['service'].iloc[i].strip() == '-' else int(dataset['service'].iloc[i])]\n",
    "    flavour = [ 1  if dataset['flavour'].iloc[i].strip() == '-' else int(dataset['flavour'].iloc[i])]\n",
    "    temp  = speed[0] * service[0] * flavour[0]\n",
    "    if temp > 500 :\n",
    "        scor.append(1)\n",
    "    else :\n",
    "        scor.append(0)\n",
    "    \n"
   ]
  },
  {
   "cell_type": "code",
   "execution_count": 28,
   "metadata": {},
   "outputs": [],
   "source": [
    "dataset[\"scor\"] = scor"
   ]
  },
  {
   "cell_type": "code",
   "execution_count": 29,
   "metadata": {},
   "outputs": [
    {
     "data": {
      "text/html": [
       "<div>\n",
       "<style scoped>\n",
       "    .dataframe tbody tr th:only-of-type {\n",
       "        vertical-align: middle;\n",
       "    }\n",
       "\n",
       "    .dataframe tbody tr th {\n",
       "        vertical-align: top;\n",
       "    }\n",
       "\n",
       "    .dataframe thead th {\n",
       "        text-align: right;\n",
       "    }\n",
       "</style>\n",
       "<table border=\"1\" class=\"dataframe\">\n",
       "  <thead>\n",
       "    <tr style=\"text-align: right;\">\n",
       "      <th></th>\n",
       "      <th>speed</th>\n",
       "      <th>service</th>\n",
       "      <th>flavour</th>\n",
       "      <th>review</th>\n",
       "      <th>scor</th>\n",
       "    </tr>\n",
       "  </thead>\n",
       "  <tbody>\n",
       "    <tr>\n",
       "      <th>0</th>\n",
       "      <td>-</td>\n",
       "      <td>1</td>\n",
       "      <td>1</td>\n",
       "      <td>Her zaman komşu fırından sipariş verdiğim için...</td>\n",
       "      <td>0</td>\n",
       "    </tr>\n",
       "    <tr>\n",
       "      <th>1</th>\n",
       "      <td>-</td>\n",
       "      <td>10</td>\n",
       "      <td>2</td>\n",
       "      <td>sosisli ürün isteyen adama peynirli bişey yol...</td>\n",
       "      <td>0</td>\n",
       "    </tr>\n",
       "    <tr>\n",
       "      <th>2</th>\n",
       "      <td>-</td>\n",
       "      <td>10</td>\n",
       "      <td>10</td>\n",
       "      <td>Siparisimi cok hizli getiren ekip arkadasiniza...</td>\n",
       "      <td>0</td>\n",
       "    </tr>\n",
       "    <tr>\n",
       "      <th>3</th>\n",
       "      <td>1</td>\n",
       "      <td>1</td>\n",
       "      <td>7</td>\n",
       "      <td>After waiting more tjan one hour, they didnt d...</td>\n",
       "      <td>0</td>\n",
       "    </tr>\n",
       "    <tr>\n",
       "      <th>4</th>\n",
       "      <td>4</td>\n",
       "      <td>4</td>\n",
       "      <td>1</td>\n",
       "      <td>Iyi pişsin diye söylememe rağmen az pişmiş gel...</td>\n",
       "      <td>0</td>\n",
       "    </tr>\n",
       "    <tr>\n",
       "      <th>5</th>\n",
       "      <td>1</td>\n",
       "      <td>1</td>\n",
       "      <td>1</td>\n",
       "      <td>kokmuş hamburger getirdiniz be ayıp ulan resm...</td>\n",
       "      <td>0</td>\n",
       "    </tr>\n",
       "    <tr>\n",
       "      <th>6</th>\n",
       "      <td>10</td>\n",
       "      <td>10</td>\n",
       "      <td>10</td>\n",
       "      <td>Her yiyeceği özenle getiriyolar ve lezzeti old...</td>\n",
       "      <td>1</td>\n",
       "    </tr>\n",
       "    <tr>\n",
       "      <th>7</th>\n",
       "      <td>1</td>\n",
       "      <td>1</td>\n",
       "      <td>1</td>\n",
       "      <td>Allah affetsin çok kötüydü hiç bir şey mi iyi ...</td>\n",
       "      <td>0</td>\n",
       "    </tr>\n",
       "    <tr>\n",
       "      <th>8</th>\n",
       "      <td>10</td>\n",
       "      <td>10</td>\n",
       "      <td>9</td>\n",
       "      <td>Tavsiye ederim.</td>\n",
       "      <td>1</td>\n",
       "    </tr>\n",
       "    <tr>\n",
       "      <th>9</th>\n",
       "      <td>7</td>\n",
       "      <td>7</td>\n",
       "      <td>2</td>\n",
       "      <td>Dürüm bozukdu ve çok kötü kokuyordu.</td>\n",
       "      <td>0</td>\n",
       "    </tr>\n",
       "  </tbody>\n",
       "</table>\n",
       "</div>"
      ],
      "text/plain": [
       "  speed service flavour                                             review  \\\n",
       "0     -       1       1  Her zaman komşu fırından sipariş verdiğim için...   \n",
       "1     -      10       2   sosisli ürün isteyen adama peynirli bişey yol...   \n",
       "2     -      10      10  Siparisimi cok hizli getiren ekip arkadasiniza...   \n",
       "3     1       1       7  After waiting more tjan one hour, they didnt d...   \n",
       "4     4       4       1  Iyi pişsin diye söylememe rağmen az pişmiş gel...   \n",
       "5     1       1       1   kokmuş hamburger getirdiniz be ayıp ulan resm...   \n",
       "6    10      10      10  Her yiyeceği özenle getiriyolar ve lezzeti old...   \n",
       "7     1       1       1  Allah affetsin çok kötüydü hiç bir şey mi iyi ...   \n",
       "8    10      10       9                                    Tavsiye ederim.   \n",
       "9     7       7       2               Dürüm bozukdu ve çok kötü kokuyordu.   \n",
       "\n",
       "   scor  \n",
       "0     0  \n",
       "1     0  \n",
       "2     0  \n",
       "3     0  \n",
       "4     0  \n",
       "5     0  \n",
       "6     1  \n",
       "7     0  \n",
       "8     1  \n",
       "9     0  "
      ]
     },
     "execution_count": 29,
     "metadata": {},
     "output_type": "execute_result"
    }
   ],
   "source": [
    "dataset.head(10)"
   ]
  },
  {
   "cell_type": "code",
   "execution_count": 30,
   "metadata": {},
   "outputs": [
    {
     "data": {
      "text/plain": [
       "0    her zaman komşu fırından sipariş verdiğim için...\n",
       "1    sosisli ürün isteyen adama peynirli bişey yoll...\n",
       "2    siparisimi cok hizli getiren ekip arkadasiniza...\n",
       "3    after waiting more tjan one hour, they didnt d...\n",
       "4    iyi pişsin diye söylememe rağmen az pişmiş gel...\n",
       "5    kokmuş hamburger getirdiniz be ayıp ulan resme...\n",
       "6    her yiyeceği özenle getiriyolar ve lezzeti old...\n",
       "7    allah affetsin çok kötüydü hiç bir şey mi iyi ...\n",
       "8                                      tavsiye ederim.\n",
       "9                 dürüm bozukdu ve çok kötü kokuyordu.\n",
       "Name: review, dtype: object"
      ]
     },
     "execution_count": 30,
     "metadata": {},
     "output_type": "execute_result"
    }
   ],
   "source": [
    "#Buyuk harfleri küçük harf yapma\n",
    "lower_dataset = dataset.copy()\n",
    "lower_dataset=lower_dataset[\"review\"].apply(lambda x : \" \".join(word.lower() for word in x.split()))\n",
    "lower_dataset.head(10)"
   ]
  },
  {
   "cell_type": "code",
   "execution_count": 31,
   "metadata": {},
   "outputs": [
    {
     "data": {
      "text/html": [
       "<div>\n",
       "<style scoped>\n",
       "    .dataframe tbody tr th:only-of-type {\n",
       "        vertical-align: middle;\n",
       "    }\n",
       "\n",
       "    .dataframe tbody tr th {\n",
       "        vertical-align: top;\n",
       "    }\n",
       "\n",
       "    .dataframe thead th {\n",
       "        text-align: right;\n",
       "    }\n",
       "</style>\n",
       "<table border=\"1\" class=\"dataframe\">\n",
       "  <thead>\n",
       "    <tr style=\"text-align: right;\">\n",
       "      <th></th>\n",
       "      <th>review</th>\n",
       "    </tr>\n",
       "  </thead>\n",
       "  <tbody>\n",
       "    <tr>\n",
       "      <th>0</th>\n",
       "      <td>her zaman komşu fırından sipariş verdiğim için...</td>\n",
       "    </tr>\n",
       "    <tr>\n",
       "      <th>1</th>\n",
       "      <td>sosisli ürün isteyen adama peynirli bişey yoll...</td>\n",
       "    </tr>\n",
       "    <tr>\n",
       "      <th>2</th>\n",
       "      <td>siparisimi cok hizli getiren ekip arkadasiniza...</td>\n",
       "    </tr>\n",
       "    <tr>\n",
       "      <th>3</th>\n",
       "      <td>after waiting more tjan one hour they didnt de...</td>\n",
       "    </tr>\n",
       "    <tr>\n",
       "      <th>4</th>\n",
       "      <td>iyi pişsin diye söylememe rağmen az pişmiş gel...</td>\n",
       "    </tr>\n",
       "    <tr>\n",
       "      <th>5</th>\n",
       "      <td>kokmuş hamburger getirdiniz be ayıp ulan resme...</td>\n",
       "    </tr>\n",
       "    <tr>\n",
       "      <th>6</th>\n",
       "      <td>her yiyeceği özenle getiriyolar ve lezzeti old...</td>\n",
       "    </tr>\n",
       "    <tr>\n",
       "      <th>7</th>\n",
       "      <td>allah affetsin çok kötüydü hiç bir şey mi iyi ...</td>\n",
       "    </tr>\n",
       "    <tr>\n",
       "      <th>8</th>\n",
       "      <td>tavsiye ederim</td>\n",
       "    </tr>\n",
       "    <tr>\n",
       "      <th>9</th>\n",
       "      <td>dürüm bozukdu ve çok kötü kokuyordu</td>\n",
       "    </tr>\n",
       "  </tbody>\n",
       "</table>\n",
       "</div>"
      ],
      "text/plain": [
       "                                              review\n",
       "0  her zaman komşu fırından sipariş verdiğim için...\n",
       "1  sosisli ürün isteyen adama peynirli bişey yoll...\n",
       "2  siparisimi cok hizli getiren ekip arkadasiniza...\n",
       "3  after waiting more tjan one hour they didnt de...\n",
       "4  iyi pişsin diye söylememe rağmen az pişmiş gel...\n",
       "5  kokmuş hamburger getirdiniz be ayıp ulan resme...\n",
       "6  her yiyeceği özenle getiriyolar ve lezzeti old...\n",
       "7  allah affetsin çok kötüydü hiç bir şey mi iyi ...\n",
       "8                                     tavsiye ederim\n",
       "9                dürüm bozukdu ve çok kötü kokuyordu"
      ]
     },
     "execution_count": 31,
     "metadata": {},
     "output_type": "execute_result"
    }
   ],
   "source": [
    "#noktalama işaretlerini silme\n",
    "nokta_dataset = lower_dataset.copy()\n",
    "nokta_dataset = nokta_dataset.str.replace(\"[^\\w\\s]\",\"\")\n",
    "nokta_dataset = pd.DataFrame(nokta_dataset)\n",
    "nokta_dataset.head(10)"
   ]
  },
  {
   "cell_type": "code",
   "execution_count": 32,
   "metadata": {},
   "outputs": [
    {
     "data": {
      "text/html": [
       "<div>\n",
       "<style scoped>\n",
       "    .dataframe tbody tr th:only-of-type {\n",
       "        vertical-align: middle;\n",
       "    }\n",
       "\n",
       "    .dataframe tbody tr th {\n",
       "        vertical-align: top;\n",
       "    }\n",
       "\n",
       "    .dataframe thead th {\n",
       "        text-align: right;\n",
       "    }\n",
       "</style>\n",
       "<table border=\"1\" class=\"dataframe\">\n",
       "  <thead>\n",
       "    <tr style=\"text-align: right;\">\n",
       "      <th></th>\n",
       "      <th>review</th>\n",
       "      <th>target</th>\n",
       "    </tr>\n",
       "  </thead>\n",
       "  <tbody>\n",
       "    <tr>\n",
       "      <th>35353</th>\n",
       "      <td>yemekler sıcak geldi onun dışında fiyat perfor...</td>\n",
       "      <td>1</td>\n",
       "    </tr>\n",
       "    <tr>\n",
       "      <th>48732</th>\n",
       "      <td>mukemmel</td>\n",
       "      <td>1</td>\n",
       "    </tr>\n",
       "    <tr>\n",
       "      <th>33103</th>\n",
       "      <td>ben sultan ahmet köftesi istedim fakat tekirda...</td>\n",
       "      <td>0</td>\n",
       "    </tr>\n",
       "    <tr>\n",
       "      <th>37601</th>\n",
       "      <td>iyiler</td>\n",
       "      <td>1</td>\n",
       "    </tr>\n",
       "    <tr>\n",
       "      <th>31449</th>\n",
       "      <td>guzeldı</td>\n",
       "      <td>0</td>\n",
       "    </tr>\n",
       "    <tr>\n",
       "      <th>48433</th>\n",
       "      <td>aynıydı soğuk geldi</td>\n",
       "      <td>0</td>\n",
       "    </tr>\n",
       "    <tr>\n",
       "      <th>24038</th>\n",
       "      <td>bombası gerçekten başarılı orjinal bomba izmir...</td>\n",
       "      <td>1</td>\n",
       "    </tr>\n",
       "    <tr>\n",
       "      <th>31316</th>\n",
       "      <td>kurye arkadaşıma teşekkür ederim hız lezzet gü...</td>\n",
       "      <td>1</td>\n",
       "    </tr>\n",
       "    <tr>\n",
       "      <th>39995</th>\n",
       "      <td>ellerine sağlık güzel hazırlanmış fakat peçete...</td>\n",
       "      <td>1</td>\n",
       "    </tr>\n",
       "    <tr>\n",
       "      <th>2336</th>\n",
       "      <td>sey lezzetliydi kurye arkadas güler yüzlüydü e...</td>\n",
       "      <td>1</td>\n",
       "    </tr>\n",
       "  </tbody>\n",
       "</table>\n",
       "</div>"
      ],
      "text/plain": [
       "                                                  review  target\n",
       "35353  yemekler sıcak geldi onun dışında fiyat perfor...       1\n",
       "48732                                           mukemmel       1\n",
       "33103  ben sultan ahmet köftesi istedim fakat tekirda...       0\n",
       "37601                                             iyiler       1\n",
       "31449                                            guzeldı       0\n",
       "48433                                aynıydı soğuk geldi       0\n",
       "24038  bombası gerçekten başarılı orjinal bomba izmir...       1\n",
       "31316  kurye arkadaşıma teşekkür ederim hız lezzet gü...       1\n",
       "39995  ellerine sağlık güzel hazırlanmış fakat peçete...       1\n",
       "2336   sey lezzetliydi kurye arkadas güler yüzlüydü e...       1"
      ]
     },
     "execution_count": 32,
     "metadata": {},
     "output_type": "execute_result"
    }
   ],
   "source": [
    "#stopWordsların silinmesi\n",
    "stopWord_dataset = nokta_dataset.copy() \n",
    "sw = stopwords.words(\"turkish\")\n",
    "stopWord_dataset = stopWord_dataset.review.apply(lambda x : \" \".join(word  for word in x.split()\n",
    "                                                                    if word not in sw))\n",
    "data = pd.DataFrame(stopWord_dataset)\n",
    "target = dataset[\"scor\"]\n",
    "data[\"target\"] =  target \n",
    "data.sample(10)"
   ]
  },
  {
   "cell_type": "code",
   "execution_count": 33,
   "metadata": {},
   "outputs": [
    {
     "name": "stdout",
     "output_type": "stream",
     "text": [
      "54188\n",
      "6021\n",
      "54188\n",
      "6021\n"
     ]
    }
   ],
   "source": [
    "x = data[\"review\"].values.tolist()\n",
    "y = data[\"target\"].values.tolist()\n",
    "#datayı egitim için boluyoruz\n",
    "x_train, x_test , y_train, y_test =  train_test_split(x, y,\n",
    "                                                     test_size = 0.1, random_state = 42)\n",
    "print(len(x_train))\n",
    "print(len(x_test))\n",
    "print(len(y_train))\n",
    "print(len(y_test))\n",
    "y_train = np.array(y_train)\n",
    "y_test = np.array(y_test)"
   ]
  },
  {
   "cell_type": "code",
   "execution_count": 36,
   "metadata": {},
   "outputs": [],
   "source": [
    "#Tokenleştirme\n",
    "num_words = 10000 # bag of words\n",
    "tokenizer = Tokenizer(num_words= num_words)\n",
    "tokenizer.fit_on_texts(x)\n",
    "#tokenizer.word_index\n",
    "\n"
   ]
  },
  {
   "cell_type": "code",
   "execution_count": 108,
   "metadata": {},
   "outputs": [
    {
     "data": {
      "text/plain": [
       "'lezzetini pek beğendim'"
      ]
     },
     "execution_count": 108,
     "metadata": {},
     "output_type": "execute_result"
    }
   ],
   "source": [
    "x_train_token = tokenizer.texts_to_sequences(x_train)\n",
    "x_test_token = tokenizer.texts_to_sequences(x_test)\n",
    "x_train[18966]"
   ]
  },
  {
   "cell_type": "code",
   "execution_count": 109,
   "metadata": {},
   "outputs": [
    {
     "data": {
      "text/plain": [
       "[680, 234, 103]"
      ]
     },
     "execution_count": 109,
     "metadata": {},
     "output_type": "execute_result"
    }
   ],
   "source": [
    "x_train_token[18966]"
   ]
  },
  {
   "cell_type": "code",
   "execution_count": 111,
   "metadata": {},
   "outputs": [
    {
     "name": "stdout",
     "output_type": "stream",
     "text": [
      "23\n"
     ]
    }
   ],
   "source": [
    "#padding input için boyutları hepsini aynı yapma\n",
    "num_tokens = [len(token) for token in x_train_token + x_test_token] #liste halinde token uzunlukları tutma\n",
    "num_tokens = np.array(num_tokens)\n",
    "\n",
    "#input uzunlugu mean + 2 * std = %95\n",
    "max_token = int(np.mean(num_tokens) + 2 * np.std(num_tokens))\n",
    "print(max_token)\n"
   ]
  },
  {
   "cell_type": "code",
   "execution_count": 113,
   "metadata": {},
   "outputs": [
    {
     "data": {
      "text/plain": [
       "array([  0,   0,   0,   0,   0,   0,   0,   0,   0,   0,   0,   0,   0,\n",
       "         0,   0,   0,   0,   0,   0,   0, 680, 234, 103])"
      ]
     },
     "execution_count": 113,
     "metadata": {},
     "output_type": "execute_result"
    }
   ],
   "source": [
    "x_train_pad = pad_sequences(x_train_token, maxlen= max_token)\n",
    "x_test_pad = pad_sequences(x_test_token, maxlen = max_token)\n",
    "x_train_pad[18966]"
   ]
  },
  {
   "cell_type": "code",
   "execution_count": 116,
   "metadata": {},
   "outputs": [],
   "source": [
    "#model\n",
    "embedding_size = 50 #kaç kelime arası ilişki olsun\n",
    "model = Sequential()\n",
    "model.add(Embedding(input_dim = num_words , output_dim = embedding_size,\n",
    "                   input_length = max_token , name = \"embedding\"))\n",
    "model.add(GRU(16 , return_sequences = True))\n",
    "model.add(GRU(8, return_sequences = True))\n",
    "model.add(GRU(4, return_sequences = False))\n",
    "model.add(Dense(1, activation = \"sigmoid\"))\n",
    "\n",
    "model.compile(loss = \"binary_crossentropy\", optimizer = Adam(learning_rate= 1e-3),\n",
    "             metrics = [\"accuracy\"])"
   ]
  },
  {
   "cell_type": "code",
   "execution_count": 117,
   "metadata": {},
   "outputs": [
    {
     "name": "stdout",
     "output_type": "stream",
     "text": [
      "Model: \"sequential_2\"\n",
      "_________________________________________________________________\n",
      "Layer (type)                 Output Shape              Param #   \n",
      "=================================================================\n",
      "embedding (Embedding)        (None, 23, 50)            500000    \n",
      "_________________________________________________________________\n",
      "gru_5 (GRU)                  (None, 23, 16)            3264      \n",
      "_________________________________________________________________\n",
      "gru_6 (GRU)                  (None, 23, 8)             624       \n",
      "_________________________________________________________________\n",
      "gru_7 (GRU)                  (None, 4)                 168       \n",
      "_________________________________________________________________\n",
      "dense_1 (Dense)              (None, 1)                 5         \n",
      "=================================================================\n",
      "Total params: 504,061\n",
      "Trainable params: 504,061\n",
      "Non-trainable params: 0\n",
      "_________________________________________________________________\n"
     ]
    }
   ],
   "source": [
    "model.summary()"
   ]
  },
  {
   "cell_type": "code",
   "execution_count": 119,
   "metadata": {},
   "outputs": [
    {
     "data": {
      "text/plain": [
       "list"
      ]
     },
     "execution_count": 119,
     "metadata": {},
     "output_type": "execute_result"
    }
   ],
   "source": []
  },
  {
   "cell_type": "code",
   "execution_count": 121,
   "metadata": {},
   "outputs": [
    {
     "name": "stdout",
     "output_type": "stream",
     "text": [
      "Epoch 1/5\n",
      "847/847 [==============================] - 43s 25ms/step - loss: 0.4437 - accuracy: 0.8041\n",
      "Epoch 2/5\n",
      "847/847 [==============================] - 21s 25ms/step - loss: 0.3028 - accuracy: 0.89080s - loss: 0.3028 - accura\n",
      "Epoch 3/5\n",
      "847/847 [==============================] - 21s 25ms/step - loss: 0.2669 - accuracy: 0.9096\n",
      "Epoch 4/5\n",
      "847/847 [==============================] - 21s 25ms/step - loss: 0.2426 - accuracy: 0.9203\n",
      "Epoch 5/5\n",
      "847/847 [==============================] - 21s 25ms/step - loss: 0.2165 - accuracy: 0.9319\n"
     ]
    }
   ],
   "source": [
    "hist = model.fit(x_train_pad, y_train, epochs = 5 , batch_size = 64)\n"
   ]
  },
  {
   "cell_type": "code",
   "execution_count": 122,
   "metadata": {},
   "outputs": [],
   "source": [
    "model.save(\"model.h5\")\n",
    "model.save_weights(\"model_weights.h5\")"
   ]
  },
  {
   "cell_type": "code",
   "execution_count": 123,
   "metadata": {},
   "outputs": [
    {
     "name": "stdout",
     "output_type": "stream",
     "text": [
      "189/189 [==============================] - 2s 3ms/step - loss: 0.4208 - accuracy: 0.8482\n",
      "Loss : 0.42078888416290283 , Acc : 0.8481979966163635\n"
     ]
    }
   ],
   "source": [
    "#degerlendirme\n",
    "result = model.evaluate(x_test_pad, y_test)\n",
    "print(\"Loss : {} , Acc : {}\".format(result[0], result[1]))"
   ]
  },
  {
   "cell_type": "code",
   "execution_count": 129,
   "metadata": {},
   "outputs": [
    {
     "data": {
      "image/png": "[encoded data removed]",
      "text/plain": [
       "<Figure size 432x288 with 2 Axes>"
      ]
     },
     "metadata": {
      "needs_background": "light"
     },
     "output_type": "display_data"
    }
   ],
   "source": [
    "#cm\n",
    "y_pred = model.predict(x_test_pad)\n",
    "y_pred[y_pred > 0.5] = 1\n",
    "y_pred[y_pred < 0.5] = 0\n",
    "\n",
    "cm = confusion_matrix(y_test ,y_pred)\n",
    "\n",
    "sns.heatmap(cm, annot = True)\n",
    "plt.xlabel(\"Y_pred\")\n",
    "plt.ylabel(\"Y_true\")\n",
    "plt.show()"
   ]
  },
  {
   "cell_type": "code",
   "execution_count": 137,
   "metadata": {},
   "outputs": [
    {
     "data": {
      "image/png": "[encoded data removed]",
      "text/plain": [
       "<Figure size 432x288 with 1 Axes>"
      ]
     },
     "metadata": {
      "needs_background": "light"
     },
     "output_type": "display_data"
    }
   ],
   "source": [
    "plt.figure()\n",
    "plt.plot(hist.history[\"loss\"], color = \"red\", label = \"Train_loss\")\n",
    "plt.plot(hist.history[\"accuracy\"], color = \"blue\",label = \"Train_acc\")\n",
    "plt.legend()\n",
    "plt.show()\n"
   ]
  },
  {
   "cell_type": "code",
   "execution_count": 141,
   "metadata": {},
   "outputs": [],
   "source": [
    "#real test\n",
    "def proces_text_pred(texts):\n",
    "    #kucuk harf\n",
    "    text = texts.lower()\n",
    "    #noktalama\n",
    "    text = re.sub('[^a-zA-Z]',' ',text) \n",
    "    text = \" \".join(word  for word in text.split() if word not in sw)\n",
    "    return text\n",
    "\n",
    "\n"
   ]
  },
  {
   "cell_type": "code",
   "execution_count": 144,
   "metadata": {},
   "outputs": [
    {
     "name": "stdout",
     "output_type": "stream",
     "text": [
      "[[0.967803  ]\n",
      " [0.07333779]\n",
      " [0.9680811 ]]\n"
     ]
    }
   ],
   "source": [
    "text1 = proces_text_pred(\"Seni seviyorum\")\n",
    "text2 = proces_text_pred(\"Siparişde soyledigim halde halen gelmedi.\")\n",
    "text3 = proces_text_pred(\"Yaşıyoruz bu hayatı Çok Şükür\")\n",
    "\n",
    "text = [text1 ,text2, text3]\n",
    "text_token = tokenizer.texts_to_sequences(text)\n",
    "text_token_pad = pad_sequences(text_token ,maxlen = max_token)\n",
    "\n",
    "text_pred = model.predict(text_token_pad)\n",
    "print(text_pred)"
   ]
  },
  {
   "cell_type": "code",
   "execution_count": null,
   "metadata": {},
   "outputs": [],
   "source": []
  }
 ],
 "metadata": {
  "kernelspec": {
   "display_name": "Python 3",
   "language": "python",
   "name": "python3"
  },
  "language_info": {
   "codemirror_mode": {
    "name": "ipython",
    "version": 3
   },
   "file_extension": ".py",
   "mimetype": "text/x-python",
   "name": "python",
   "nbconvert_exporter": "python",
   "pygments_lexer": "ipython3",
   "version": "3.8.5"
  }
 },
 "nbformat": 4,
 "nbformat_minor": 4
}
